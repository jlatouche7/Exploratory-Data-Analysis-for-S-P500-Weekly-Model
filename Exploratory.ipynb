{
 "cells": [
  {
   "cell_type": "code",
   "execution_count": 88,
   "id": "663179d3-9f7a-420f-a134-2adced0656e5",
   "metadata": {},
   "outputs": [],
   "source": [
    "import pandas as pd\n",
    "import pandas as pd\n",
    "import matplotlib.pyplot as plt\n",
    "import numpy as np\n",
    "import warnings\n",
    "from sklearn.pipeline import Pipeline, make_pipeline\n",
    "from sklearn.linear_model import LinearRegression, Ridge, Lasso\n",
    "from sklearn.preprocessing import PolynomialFeatures, OneHotEncoder, OrdinalEncoder, StandardScaler\n",
    "from sklearn.metrics import mean_squared_error\n",
    "from sklearn.feature_selection import SequentialFeatureSelector, SelectFromModel\n",
    "from sklearn.pipeline import Pipeline\n",
    "from sklearn import set_config\n",
    "from sklearn.model_selection import train_test_split, GridSearchCV\n",
    "from sklearn.compose import ColumnTransformer\n",
    "import matplotlib.pyplot as plt\n",
    "import seaborn as sns\n",
    "import plotly.express as px\n",
    "from scipy import stats"
   ]
  },
  {
   "cell_type": "code",
   "execution_count": 89,
   "id": "10a26fee-d3ec-405a-8f2c-951676f73cc9",
   "metadata": {},
   "outputs": [],
   "source": [
    "data = pd.read_csv('data/spinitial.csv')"
   ]
  },
  {
   "cell_type": "code",
   "execution_count": 90,
   "id": "43fb5242-5280-4cd8-91f7-2372506789d2",
   "metadata": {},
   "outputs": [
    {
     "name": "stdout",
     "output_type": "stream",
     "text": [
      "<class 'pandas.core.frame.DataFrame'>\n",
      "RangeIndex: 2408 entries, 0 to 2407\n",
      "Data columns (total 27 columns):\n",
      " #   Column                                  Non-Null Count  Dtype  \n",
      "---  ------                                  --------------  -----  \n",
      " 0   Date                                    2377 non-null   object \n",
      " 1   previous_open                           2377 non-null   float64\n",
      " 2   previous_high                           2377 non-null   float64\n",
      " 3   previous_low                            2377 non-null   float64\n",
      " 4   previous_close                          2377 non-null   float64\n",
      " 5   2_weeks_ago_close                       2406 non-null   float64\n",
      " 6   previous_volume                         2377 non-null   float64\n",
      " 7   previous_return                         2406 non-null   object \n",
      " 8   following_week_close                    2377 non-null   float64\n",
      " 9   following_week_return                   2377 non-null   object \n",
      " 10  jobless_claims                          2378 non-null   float64\n",
      " 11  previos_week_2_year_constant_maturity   2379 non-null   float64\n",
      " 12  previos_week_7_year_constant_maturity   2379 non-null   float64\n",
      " 13  previos_week_30_year_constant_maturity  2379 non-null   float64\n",
      " 14  4_week_MA                               2374 non-null   float64\n",
      " 15  8_week_MA                               2370 non-null   float64\n",
      " 16  13_week_ma                              2365 non-null   float64\n",
      " 17  26_week_MA                              2352 non-null   float64\n",
      " 18  40_week_ma                              2338 non-null   float64\n",
      " 19  52_week_ma                              2356 non-null   float64\n",
      " 20  100_week_ma                             2278 non-null   float64\n",
      " 21  4_week_rolling_std dev                  2376 non-null   object \n",
      " 22  13_week_rolling_std dev                 2395 non-null   object \n",
      " 23  26_week_rolling_std dev                 2382 non-null   object \n",
      " 24  40_week_rolling_std_dev                 2368 non-null   object \n",
      " 25  52_week_rolling_std_dev                 2356 non-null   object \n",
      " 26  week_of_month                           0 non-null      float64\n",
      "dtypes: float64(19), object(8)\n",
      "memory usage: 508.1+ KB\n"
     ]
    }
   ],
   "source": [
    "data.info()"
   ]
  },
  {
   "cell_type": "code",
   "execution_count": 91,
   "id": "b161b13d-4e07-4331-948d-013034c98e2b",
   "metadata": {},
   "outputs": [],
   "source": [
    "data = data.drop('week_of_month',axis=1)"
   ]
  },
  {
   "cell_type": "code",
   "execution_count": 92,
   "id": "f1887dbe-37e7-458e-a89f-a07bc3ed5575",
   "metadata": {},
   "outputs": [
    {
     "name": "stdout",
     "output_type": "stream",
     "text": [
      "<class 'pandas.core.frame.DataFrame'>\n",
      "RangeIndex: 2408 entries, 0 to 2407\n",
      "Data columns (total 26 columns):\n",
      " #   Column                                  Non-Null Count  Dtype  \n",
      "---  ------                                  --------------  -----  \n",
      " 0   Date                                    2377 non-null   object \n",
      " 1   previous_open                           2377 non-null   float64\n",
      " 2   previous_high                           2377 non-null   float64\n",
      " 3   previous_low                            2377 non-null   float64\n",
      " 4   previous_close                          2377 non-null   float64\n",
      " 5   2_weeks_ago_close                       2406 non-null   float64\n",
      " 6   previous_volume                         2377 non-null   float64\n",
      " 7   previous_return                         2406 non-null   object \n",
      " 8   following_week_close                    2377 non-null   float64\n",
      " 9   following_week_return                   2377 non-null   object \n",
      " 10  jobless_claims                          2378 non-null   float64\n",
      " 11  previos_week_2_year_constant_maturity   2379 non-null   float64\n",
      " 12  previos_week_7_year_constant_maturity   2379 non-null   float64\n",
      " 13  previos_week_30_year_constant_maturity  2379 non-null   float64\n",
      " 14  4_week_MA                               2374 non-null   float64\n",
      " 15  8_week_MA                               2370 non-null   float64\n",
      " 16  13_week_ma                              2365 non-null   float64\n",
      " 17  26_week_MA                              2352 non-null   float64\n",
      " 18  40_week_ma                              2338 non-null   float64\n",
      " 19  52_week_ma                              2356 non-null   float64\n",
      " 20  100_week_ma                             2278 non-null   float64\n",
      " 21  4_week_rolling_std dev                  2376 non-null   object \n",
      " 22  13_week_rolling_std dev                 2395 non-null   object \n",
      " 23  26_week_rolling_std dev                 2382 non-null   object \n",
      " 24  40_week_rolling_std_dev                 2368 non-null   object \n",
      " 25  52_week_rolling_std_dev                 2356 non-null   object \n",
      "dtypes: float64(18), object(8)\n",
      "memory usage: 489.3+ KB\n"
     ]
    }
   ],
   "source": [
    "data.info()"
   ]
  },
  {
   "cell_type": "code",
   "execution_count": 93,
   "id": "e130d0cd-c08d-4e44-8bf1-e2b894a41a38",
   "metadata": {},
   "outputs": [],
   "source": [
    "data = data.dropna()\n"
   ]
  },
  {
   "cell_type": "code",
   "execution_count": 94,
   "id": "e5e62e50-4437-445d-9542-a9fceaaa55f7",
   "metadata": {},
   "outputs": [],
   "source": [
    "data['Date'] = pd.to_datetime(data['Date'])\n",
    "data['month'] = data['Date'].dt.month"
   ]
  },
  {
   "cell_type": "code",
   "execution_count": 95,
   "id": "6ef7b99b-4fd1-44e6-a44f-01787d6e0d59",
   "metadata": {},
   "outputs": [
    {
     "name": "stdout",
     "output_type": "stream",
     "text": [
      "<class 'pandas.core.frame.DataFrame'>\n",
      "Index: 2277 entries, 100 to 2376\n",
      "Data columns (total 27 columns):\n",
      " #   Column                                  Non-Null Count  Dtype         \n",
      "---  ------                                  --------------  -----         \n",
      " 0   Date                                    2277 non-null   datetime64[ns]\n",
      " 1   previous_open                           2277 non-null   float64       \n",
      " 2   previous_high                           2277 non-null   float64       \n",
      " 3   previous_low                            2277 non-null   float64       \n",
      " 4   previous_close                          2277 non-null   float64       \n",
      " 5   2_weeks_ago_close                       2277 non-null   float64       \n",
      " 6   previous_volume                         2277 non-null   float64       \n",
      " 7   previous_return                         2277 non-null   float64       \n",
      " 8   following_week_close                    2277 non-null   float64       \n",
      " 9   following_week_return                   2277 non-null   float64       \n",
      " 10  jobless_claims                          2277 non-null   float64       \n",
      " 11  previos_week_2_year_constant_maturity   2277 non-null   float64       \n",
      " 12  previos_week_7_year_constant_maturity   2277 non-null   float64       \n",
      " 13  previos_week_30_year_constant_maturity  2277 non-null   float64       \n",
      " 14  4_week_MA                               2277 non-null   float64       \n",
      " 15  8_week_MA                               2277 non-null   float64       \n",
      " 16  13_week_ma                              2277 non-null   float64       \n",
      " 17  26_week_MA                              2277 non-null   float64       \n",
      " 18  40_week_ma                              2277 non-null   float64       \n",
      " 19  52_week_ma                              2277 non-null   float64       \n",
      " 20  100_week_ma                             2277 non-null   float64       \n",
      " 21  4_week_rolling_std dev                  2277 non-null   float64       \n",
      " 22  13_week_rolling_std dev                 2277 non-null   float64       \n",
      " 23  26_week_rolling_std dev                 2277 non-null   float64       \n",
      " 24  40_week_rolling_std_dev                 2277 non-null   float64       \n",
      " 25  52_week_rolling_std_dev                 2277 non-null   float64       \n",
      " 26  month                                   2277 non-null   int32         \n",
      "dtypes: datetime64[ns](1), float64(25), int32(1)\n",
      "memory usage: 489.2 KB\n"
     ]
    }
   ],
   "source": [
    "data['previous_return']=data['previous_return'].astype(float)\n",
    "data['following_week_return']=data['following_week_return'].astype(float)\n",
    "data['4_week_rolling_std dev']=data['4_week_rolling_std dev'].astype(float)\n",
    "data['13_week_rolling_std dev']=data['13_week_rolling_std dev'].astype(float)\n",
    "data['26_week_rolling_std dev']=data['26_week_rolling_std dev'].astype(float)\n",
    "data['40_week_rolling_std_dev']=data['40_week_rolling_std_dev'].astype(float)\n",
    "data['52_week_rolling_std_dev']=data['52_week_rolling_std_dev'].astype(float)\n",
    "data.info()\n"
   ]
  },
  {
   "cell_type": "code",
   "execution_count": 96,
   "id": "56e8e3f5-e091-4798-9488-5c9903e20664",
   "metadata": {},
   "outputs": [
    {
     "data": {
      "text/plain": [
       "[<matplotlib.lines.Line2D at 0x14bd65e9c70>]"
      ]
     },
     "execution_count": 96,
     "metadata": {},
     "output_type": "execute_result"
    },
    {
     "data": {
      "image/png": "[encoded data removed]",
      "text/plain": [
       "<Figure size 640x480 with 1 Axes>"
      ]
     },
     "metadata": {},
     "output_type": "display_data"
    }
   ],
   "source": [
    "plt.plot(data['Date'],data['previous_close'])"
   ]
  },
  {
   "cell_type": "code",
   "execution_count": 110,
   "id": "012714ad-128a-4198-b823-417219a405c6",
   "metadata": {},
   "outputs": [],
   "source": [
    "data.dropna()\n",
    "X=data.drop(['following_week_close','following_week_return','month','Date'],axis=1)\n",
    "y=data['following_week_close']"
   ]
  },
  {
   "cell_type": "code",
   "execution_count": 111,
   "id": "7355d799-fffc-4884-89db-1912181fb600",
   "metadata": {},
   "outputs": [],
   "source": [
    "X_train, X_test, y_train, y_test = train_test_split(X,y,test_size=0.25,random_state=42)"
   ]
  },
  {
   "cell_type": "code",
   "execution_count": 112,
   "id": "22d5da33-3618-4404-86bd-95249a5052fc",
   "metadata": {},
   "outputs": [],
   "source": [
    "numerical=['previous_open','previous_high','previous_low','previous_close','2_weeks_ago_close','previous_volume','previous_return','52_week_ma','40_week_ma','26_week_MA','13_week_ma','8_week_MA','4_week_MA','100_week_ma','previos_week_30_year_constant_maturity','previos_week_7_year_constant_maturity','previos_week_2_year_constant_maturity','jobless_claims','100_week_ma','4_week_rolling_std dev','13_week_rolling_std dev','26_week_rolling_std dev','40_week_rolling_std_dev','52_week_rolling_std_dev']"
   ]
  },
  {
   "cell_type": "code",
   "execution_count": 113,
   "id": "2b5ad1ff-3114-4a72-aa78-7aa16f1b2a3e",
   "metadata": {},
   "outputs": [],
   "source": [
    "polytransformer = Pipeline([\n",
    "                                    ('poly',PolynomialFeatures(degree = 3,include_bias=False)),\n",
    "                                    ('scale',StandardScaler())\n",
    "                                ])\n",
    "transformer = [('polynomialtransformations',polytransformer,numerical)]\n",
    "transform = ColumnTransformer(transformers = transformer,remainder='passthrough')"
   ]
  },
  {
   "cell_type": "code",
   "execution_count": 114,
   "id": "6dcf9805-986b-4f13-901e-3f14e4b6ba00",
   "metadata": {},
   "outputs": [],
   "source": [
    "initialpipe = Pipeline([\n",
    "    ('transform',transform),\n",
    "    ('reg',LinearRegression())\n",
    "])"
   ]
  },
  {
   "cell_type": "code",
   "execution_count": 115,
   "id": "918e444b-09e4-43ea-bbe9-96cbb97cd292",
   "metadata": {},
   "outputs": [],
   "source": [
    "baselinemodel = initialpipe.fit(X_train,y_train)\n",
    "preds = baselinemodel.predict(X_test)\n",
    "baselineerror = mean_squared_error(y_test,preds)"
   ]
  },
  {
   "cell_type": "code",
   "execution_count": 116,
   "id": "a8a206e3-6bdd-4347-ac5a-5a0b4c400a8c",
   "metadata": {},
   "outputs": [
    {
     "data": {
      "text/plain": [
       "1233344.895910115"
      ]
     },
     "execution_count": 116,
     "metadata": {},
     "output_type": "execute_result"
    }
   ],
   "source": [
    "baselineerror"
   ]
  },
  {
   "cell_type": "code",
   "execution_count": null,
   "id": "957daf88-0272-4a11-b5ab-78465f867c08",
   "metadata": {},
   "outputs": [],
   "source": []
  },
  {
   "cell_type": "code",
   "execution_count": null,
   "id": "a1343b44-32b9-45af-a403-945438812cb4",
   "metadata": {},
   "outputs": [],
   "source": []
  }
 ],
 "metadata": {
  "kernelspec": {
   "display_name": "Python 3 (ipykernel)",
   "language": "python",
   "name": "python3"
  },
  "language_info": {
   "codemirror_mode": {
    "name": "ipython",
    "version": 3
   },
   "file_extension": ".py",
   "mimetype": "text/x-python",
   "name": "python",
   "nbconvert_exporter": "python",
   "pygments_lexer": "ipython3",
   "version": "3.12.3"
  }
 },
 "nbformat": 4,
 "nbformat_minor": 5
}
